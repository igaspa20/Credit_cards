{
 "cells": [
  {
   "cell_type": "code",
   "execution_count": 30,
   "metadata": {},
   "outputs": [],
   "source": [
    "import numpy as np\n",
    "import pandas as pd\n",
    "import os\n",
    "import pickle\n",
    "import matplotlib\n",
    "import matplotlib.pyplot as plt\n",
    "\n",
    "np.random.seed(42)"
   ]
  },
  {
   "cell_type": "code",
   "execution_count": 3,
   "metadata": {},
   "outputs": [],
   "source": [
    "dataset = pd.read_csv(\"trends.csv\")"
   ]
  },
  {
   "cell_type": "code",
   "execution_count": 4,
   "metadata": {},
   "outputs": [
    {
     "data": {
      "text/html": [
       "<div>\n",
       "<style scoped>\n",
       "    .dataframe tbody tr th:only-of-type {\n",
       "        vertical-align: middle;\n",
       "    }\n",
       "\n",
       "    .dataframe tbody tr th {\n",
       "        vertical-align: top;\n",
       "    }\n",
       "\n",
       "    .dataframe thead th {\n",
       "        text-align: right;\n",
       "    }\n",
       "</style>\n",
       "<table border=\"1\" class=\"dataframe\">\n",
       "  <thead>\n",
       "    <tr style=\"text-align: right;\">\n",
       "      <th></th>\n",
       "      <th>location</th>\n",
       "      <th>year</th>\n",
       "      <th>category</th>\n",
       "      <th>rank</th>\n",
       "      <th>query</th>\n",
       "    </tr>\n",
       "  </thead>\n",
       "  <tbody>\n",
       "    <tr>\n",
       "      <th>0</th>\n",
       "      <td>Global</td>\n",
       "      <td>2001</td>\n",
       "      <td>Consumer Brands</td>\n",
       "      <td>1</td>\n",
       "      <td>Nokia</td>\n",
       "    </tr>\n",
       "    <tr>\n",
       "      <th>1</th>\n",
       "      <td>Global</td>\n",
       "      <td>2001</td>\n",
       "      <td>Consumer Brands</td>\n",
       "      <td>2</td>\n",
       "      <td>Sony</td>\n",
       "    </tr>\n",
       "    <tr>\n",
       "      <th>2</th>\n",
       "      <td>Global</td>\n",
       "      <td>2001</td>\n",
       "      <td>Consumer Brands</td>\n",
       "      <td>3</td>\n",
       "      <td>BMW</td>\n",
       "    </tr>\n",
       "    <tr>\n",
       "      <th>3</th>\n",
       "      <td>Global</td>\n",
       "      <td>2001</td>\n",
       "      <td>Consumer Brands</td>\n",
       "      <td>4</td>\n",
       "      <td>Palm</td>\n",
       "    </tr>\n",
       "    <tr>\n",
       "      <th>4</th>\n",
       "      <td>Global</td>\n",
       "      <td>2001</td>\n",
       "      <td>Consumer Brands</td>\n",
       "      <td>5</td>\n",
       "      <td>Adobe</td>\n",
       "    </tr>\n",
       "  </tbody>\n",
       "</table>\n",
       "</div>"
      ],
      "text/plain": [
       "  location  year         category  rank  query\n",
       "0   Global  2001  Consumer Brands     1  Nokia\n",
       "1   Global  2001  Consumer Brands     2   Sony\n",
       "2   Global  2001  Consumer Brands     3    BMW\n",
       "3   Global  2001  Consumer Brands     4   Palm\n",
       "4   Global  2001  Consumer Brands     5  Adobe"
      ]
     },
     "execution_count": 4,
     "metadata": {},
     "output_type": "execute_result"
    }
   ],
   "source": [
    "dataset.head()"
   ]
  },
  {
   "cell_type": "code",
   "execution_count": 6,
   "metadata": {},
   "outputs": [
    {
     "data": {
      "text/plain": [
       "RangeIndex(start=0, stop=26955, step=1)"
      ]
     },
     "execution_count": 6,
     "metadata": {},
     "output_type": "execute_result"
    }
   ],
   "source": [
    "dataset.index"
   ]
  },
  {
   "cell_type": "code",
   "execution_count": 7,
   "metadata": {},
   "outputs": [
    {
     "data": {
      "text/plain": [
       "26955"
      ]
     },
     "execution_count": 7,
     "metadata": {},
     "output_type": "execute_result"
    }
   ],
   "source": [
    "len(dataset) #longitud"
   ]
  },
  {
   "cell_type": "code",
   "execution_count": 8,
   "metadata": {},
   "outputs": [
    {
     "data": {
      "text/plain": [
       "(26955, 5)"
      ]
     },
     "execution_count": 8,
     "metadata": {},
     "output_type": "execute_result"
    }
   ],
   "source": [
    "dataset.shape #filas y columnas"
   ]
  },
  {
   "cell_type": "code",
   "execution_count": 9,
   "metadata": {},
   "outputs": [
    {
     "name": "stdout",
     "output_type": "stream",
     "text": [
      "<class 'pandas.core.frame.DataFrame'>\n",
      "RangeIndex: 26955 entries, 0 to 26954\n",
      "Data columns (total 5 columns):\n",
      " #   Column    Non-Null Count  Dtype \n",
      "---  ------    --------------  ----- \n",
      " 0   location  26955 non-null  object\n",
      " 1   year      26955 non-null  int64 \n",
      " 2   category  26955 non-null  object\n",
      " 3   rank      26955 non-null  int64 \n",
      " 4   query     26955 non-null  object\n",
      "dtypes: int64(2), object(3)\n",
      "memory usage: 1.0+ MB\n"
     ]
    }
   ],
   "source": [
    "dataset.info() #columnas y tipos de datos"
   ]
  },
  {
   "cell_type": "code",
   "execution_count": 10,
   "metadata": {},
   "outputs": [
    {
     "data": {
      "text/html": [
       "<div>\n",
       "<style scoped>\n",
       "    .dataframe tbody tr th:only-of-type {\n",
       "        vertical-align: middle;\n",
       "    }\n",
       "\n",
       "    .dataframe tbody tr th {\n",
       "        vertical-align: top;\n",
       "    }\n",
       "\n",
       "    .dataframe thead th {\n",
       "        text-align: right;\n",
       "    }\n",
       "</style>\n",
       "<table border=\"1\" class=\"dataframe\">\n",
       "  <thead>\n",
       "    <tr style=\"text-align: right;\">\n",
       "      <th></th>\n",
       "      <th>year</th>\n",
       "      <th>rank</th>\n",
       "    </tr>\n",
       "  </thead>\n",
       "  <tbody>\n",
       "    <tr>\n",
       "      <th>count</th>\n",
       "      <td>26955.000000</td>\n",
       "      <td>26955.00000</td>\n",
       "    </tr>\n",
       "    <tr>\n",
       "      <th>mean</th>\n",
       "      <td>2015.243369</td>\n",
       "      <td>3.00000</td>\n",
       "    </tr>\n",
       "    <tr>\n",
       "      <th>std</th>\n",
       "      <td>3.564683</td>\n",
       "      <td>1.41424</td>\n",
       "    </tr>\n",
       "    <tr>\n",
       "      <th>min</th>\n",
       "      <td>2001.000000</td>\n",
       "      <td>1.00000</td>\n",
       "    </tr>\n",
       "    <tr>\n",
       "      <th>25%</th>\n",
       "      <td>2013.000000</td>\n",
       "      <td>2.00000</td>\n",
       "    </tr>\n",
       "    <tr>\n",
       "      <th>50%</th>\n",
       "      <td>2016.000000</td>\n",
       "      <td>3.00000</td>\n",
       "    </tr>\n",
       "    <tr>\n",
       "      <th>75%</th>\n",
       "      <td>2018.000000</td>\n",
       "      <td>4.00000</td>\n",
       "    </tr>\n",
       "    <tr>\n",
       "      <th>max</th>\n",
       "      <td>2020.000000</td>\n",
       "      <td>5.00000</td>\n",
       "    </tr>\n",
       "  </tbody>\n",
       "</table>\n",
       "</div>"
      ],
      "text/plain": [
       "               year         rank\n",
       "count  26955.000000  26955.00000\n",
       "mean    2015.243369      3.00000\n",
       "std        3.564683      1.41424\n",
       "min     2001.000000      1.00000\n",
       "25%     2013.000000      2.00000\n",
       "50%     2016.000000      3.00000\n",
       "75%     2018.000000      4.00000\n",
       "max     2020.000000      5.00000"
      ]
     },
     "execution_count": 10,
     "metadata": {},
     "output_type": "execute_result"
    }
   ],
   "source": [
    "dataset.describe() #solo describe las numéricas"
   ]
  },
  {
   "cell_type": "code",
   "execution_count": 12,
   "metadata": {},
   "outputs": [
    {
     "data": {
      "text/html": [
       "<div>\n",
       "<style scoped>\n",
       "    .dataframe tbody tr th:only-of-type {\n",
       "        vertical-align: middle;\n",
       "    }\n",
       "\n",
       "    .dataframe tbody tr th {\n",
       "        vertical-align: top;\n",
       "    }\n",
       "\n",
       "    .dataframe thead th {\n",
       "        text-align: right;\n",
       "    }\n",
       "</style>\n",
       "<table border=\"1\" class=\"dataframe\">\n",
       "  <thead>\n",
       "    <tr style=\"text-align: right;\">\n",
       "      <th></th>\n",
       "      <th>location</th>\n",
       "      <th>category</th>\n",
       "      <th>query</th>\n",
       "    </tr>\n",
       "  </thead>\n",
       "  <tbody>\n",
       "    <tr>\n",
       "      <th>count</th>\n",
       "      <td>26955</td>\n",
       "      <td>26955</td>\n",
       "      <td>26955</td>\n",
       "    </tr>\n",
       "    <tr>\n",
       "      <th>unique</th>\n",
       "      <td>83</td>\n",
       "      <td>2450</td>\n",
       "      <td>18431</td>\n",
       "    </tr>\n",
       "    <tr>\n",
       "      <th>top</th>\n",
       "      <td>United States</td>\n",
       "      <td>People</td>\n",
       "      <td>Paul Walker</td>\n",
       "    </tr>\n",
       "    <tr>\n",
       "      <th>freq</th>\n",
       "      <td>2070</td>\n",
       "      <td>760</td>\n",
       "      <td>84</td>\n",
       "    </tr>\n",
       "  </tbody>\n",
       "</table>\n",
       "</div>"
      ],
      "text/plain": [
       "             location category        query\n",
       "count           26955    26955        26955\n",
       "unique             83     2450        18431\n",
       "top     United States   People  Paul Walker\n",
       "freq             2070      760           84"
      ]
     },
     "execution_count": 12,
     "metadata": {},
     "output_type": "execute_result"
    }
   ],
   "source": [
    "dataset.describe(include=np.object) #describe las columnas con datos Object"
   ]
  },
  {
   "cell_type": "code",
   "execution_count": 14,
   "metadata": {},
   "outputs": [
    {
     "data": {
      "text/plain": [
       "People                     760\n",
       "Searches                   620\n",
       "Movies                     330\n",
       "TV Shows                   305\n",
       "Películas                  250\n",
       "                          ... \n",
       "Couturiers et designers      5\n",
       "... during coronavirus       5\n",
       "Koronavírus-járvány          5\n",
       "Detroit, MI                  5\n",
       "Wat betekent...?             5\n",
       "Name: category, Length: 2450, dtype: int64"
      ]
     },
     "execution_count": 14,
     "metadata": {},
     "output_type": "execute_result"
    }
   ],
   "source": [
    "#Explorar el dataset\n",
    "dataset[\"category\"].value_counts()"
   ]
  },
  {
   "cell_type": "code",
   "execution_count": 15,
   "metadata": {},
   "outputs": [
    {
     "data": {
      "text/plain": [
       "Paul Walker                     84\n",
       "Donald Trump                    83\n",
       "Facebook                        62\n",
       "Robin Williams                  61\n",
       "Whitney Houston                 56\n",
       "                                ..\n",
       "Fire Fight Australia concert     1\n",
       "Tiramisu recept                  1\n",
       "美國網球公開賽                          1\n",
       "Marbella                         1\n",
       "Подорожали яйца                  1\n",
       "Name: query, Length: 18431, dtype: int64"
      ]
     },
     "execution_count": 15,
     "metadata": {},
     "output_type": "execute_result"
    }
   ],
   "source": [
    "dataset[\"query\"].value_counts()"
   ]
  },
  {
   "cell_type": "code",
   "execution_count": 18,
   "metadata": {},
   "outputs": [
    {
     "data": {
      "text/html": [
       "<div>\n",
       "<style scoped>\n",
       "    .dataframe tbody tr th:only-of-type {\n",
       "        vertical-align: middle;\n",
       "    }\n",
       "\n",
       "    .dataframe tbody tr th {\n",
       "        vertical-align: top;\n",
       "    }\n",
       "\n",
       "    .dataframe thead th {\n",
       "        text-align: right;\n",
       "    }\n",
       "</style>\n",
       "<table border=\"1\" class=\"dataframe\">\n",
       "  <thead>\n",
       "    <tr style=\"text-align: right;\">\n",
       "      <th></th>\n",
       "      <th>location</th>\n",
       "      <th>year</th>\n",
       "      <th>category</th>\n",
       "      <th>rank</th>\n",
       "      <th>query</th>\n",
       "    </tr>\n",
       "  </thead>\n",
       "  <tbody>\n",
       "    <tr>\n",
       "      <th>20000</th>\n",
       "      <td>Kazakhstan</td>\n",
       "      <td>2018</td>\n",
       "      <td>Жылдың фильмі/Фильм года</td>\n",
       "      <td>1</td>\n",
       "      <td>Веном</td>\n",
       "    </tr>\n",
       "    <tr>\n",
       "      <th>20001</th>\n",
       "      <td>Kazakhstan</td>\n",
       "      <td>2018</td>\n",
       "      <td>Жылдың фильмі/Фильм года</td>\n",
       "      <td>2</td>\n",
       "      <td>Мстители: Война бесконечности</td>\n",
       "    </tr>\n",
       "    <tr>\n",
       "      <th>20002</th>\n",
       "      <td>Kazakhstan</td>\n",
       "      <td>2018</td>\n",
       "      <td>Жылдың фильмі/Фильм года</td>\n",
       "      <td>3</td>\n",
       "      <td>Бизнес по-казахски в Америке</td>\n",
       "    </tr>\n",
       "    <tr>\n",
       "      <th>20003</th>\n",
       "      <td>Kazakhstan</td>\n",
       "      <td>2018</td>\n",
       "      <td>Жылдың фильмі/Фильм года</td>\n",
       "      <td>4</td>\n",
       "      <td>Монстры на каникулах 3</td>\n",
       "    </tr>\n",
       "    <tr>\n",
       "      <th>20004</th>\n",
       "      <td>Kazakhstan</td>\n",
       "      <td>2018</td>\n",
       "      <td>Жылдың фильмі/Фильм года</td>\n",
       "      <td>5</td>\n",
       "      <td>Дэдпул 2</td>\n",
       "    </tr>\n",
       "    <tr>\n",
       "      <th>25400</th>\n",
       "      <td>Kenya</td>\n",
       "      <td>2020</td>\n",
       "      <td>Trending How To  (Tech)</td>\n",
       "      <td>1</td>\n",
       "      <td>How to fill Tpad online</td>\n",
       "    </tr>\n",
       "    <tr>\n",
       "      <th>25401</th>\n",
       "      <td>Kenya</td>\n",
       "      <td>2020</td>\n",
       "      <td>Trending How To  (Tech)</td>\n",
       "      <td>2</td>\n",
       "      <td>How to create a website</td>\n",
       "    </tr>\n",
       "    <tr>\n",
       "      <th>25402</th>\n",
       "      <td>Kenya</td>\n",
       "      <td>2020</td>\n",
       "      <td>Trending How To  (Tech)</td>\n",
       "      <td>3</td>\n",
       "      <td>How to connect a phone to TV</td>\n",
       "    </tr>\n",
       "    <tr>\n",
       "      <th>25403</th>\n",
       "      <td>Kenya</td>\n",
       "      <td>2020</td>\n",
       "      <td>Trending How To  (Tech)</td>\n",
       "      <td>4</td>\n",
       "      <td>How to make my electric plate cooker work</td>\n",
       "    </tr>\n",
       "    <tr>\n",
       "      <th>25404</th>\n",
       "      <td>Kenya</td>\n",
       "      <td>2020</td>\n",
       "      <td>Trending How To  (Tech)</td>\n",
       "      <td>5</td>\n",
       "      <td>How to take a screenshot on a laptop</td>\n",
       "    </tr>\n",
       "  </tbody>\n",
       "</table>\n",
       "</div>"
      ],
      "text/plain": [
       "         location  year                  category  rank  \\\n",
       "20000  Kazakhstan  2018  Жылдың фильмі/Фильм года     1   \n",
       "20001  Kazakhstan  2018  Жылдың фильмі/Фильм года     2   \n",
       "20002  Kazakhstan  2018  Жылдың фильмі/Фильм года     3   \n",
       "20003  Kazakhstan  2018  Жылдың фильмі/Фильм года     4   \n",
       "20004  Kazakhstan  2018  Жылдың фильмі/Фильм года     5   \n",
       "25400       Kenya  2020   Trending How To  (Tech)     1   \n",
       "25401       Kenya  2020   Trending How To  (Tech)     2   \n",
       "25402       Kenya  2020   Trending How To  (Tech)     3   \n",
       "25403       Kenya  2020   Trending How To  (Tech)     4   \n",
       "25404       Kenya  2020   Trending How To  (Tech)     5   \n",
       "\n",
       "                                           query  \n",
       "20000                                      Веном  \n",
       "20001              Мстители: Война бесконечности  \n",
       "20002               Бизнес по-казахски в Америке  \n",
       "20003                     Монстры на каникулах 3  \n",
       "20004                                   Дэдпул 2  \n",
       "25400                    How to fill Tpad online  \n",
       "25401                    How to create a website  \n",
       "25402               How to connect a phone to TV  \n",
       "25403  How to make my electric plate cooker work  \n",
       "25404       How to take a screenshot on a laptop  "
      ]
     },
     "execution_count": 18,
     "metadata": {},
     "output_type": "execute_result"
    }
   ],
   "source": [
    "#Mostrar duplicados\n",
    "dataset[dataset.duplicated(keep=\"first\")] #todos los registros duplicados salvo la primera ocurrencia son marcados como True"
   ]
  },
  {
   "cell_type": "code",
   "execution_count": 19,
   "metadata": {},
   "outputs": [],
   "source": [
    "#Eliminamos los registros duplicados\n",
    "dataset.drop_duplicates(inplace=True)"
   ]
  },
  {
   "cell_type": "code",
   "execution_count": 20,
   "metadata": {},
   "outputs": [
    {
     "data": {
      "text/plain": [
       "26945"
      ]
     },
     "execution_count": 20,
     "metadata": {},
     "output_type": "execute_result"
    }
   ],
   "source": [
    "len(dataset) #se eliminan los 10 duplicados encontrados menos el primer duplicado de cada uno de ellos"
   ]
  },
  {
   "cell_type": "code",
   "execution_count": 21,
   "metadata": {},
   "outputs": [],
   "source": [
    "#reiniciamos el índice\n",
    "dataset.reset_index(drop=True, inplace=True)"
   ]
  },
  {
   "cell_type": "code",
   "execution_count": 27,
   "metadata": {},
   "outputs": [],
   "source": [
    "#Guardamos el dataset limpio de duplicados\n",
    "dataset.to_pickle(\"trends_clean.pkl\")"
   ]
  },
  {
   "cell_type": "code",
   "execution_count": 28,
   "metadata": {},
   "outputs": [],
   "source": [
    "#trabajaremos con el dataset trends_clean\n",
    "df=pd.read_pickle(\"trends_clean.pkl\")"
   ]
  },
  {
   "cell_type": "code",
   "execution_count": 29,
   "metadata": {},
   "outputs": [
    {
     "data": {
      "text/html": [
       "<div>\n",
       "<style scoped>\n",
       "    .dataframe tbody tr th:only-of-type {\n",
       "        vertical-align: middle;\n",
       "    }\n",
       "\n",
       "    .dataframe tbody tr th {\n",
       "        vertical-align: top;\n",
       "    }\n",
       "\n",
       "    .dataframe thead th {\n",
       "        text-align: right;\n",
       "    }\n",
       "</style>\n",
       "<table border=\"1\" class=\"dataframe\">\n",
       "  <thead>\n",
       "    <tr style=\"text-align: right;\">\n",
       "      <th></th>\n",
       "      <th>location</th>\n",
       "      <th>year</th>\n",
       "      <th>category</th>\n",
       "      <th>rank</th>\n",
       "      <th>query</th>\n",
       "    </tr>\n",
       "  </thead>\n",
       "  <tbody>\n",
       "    <tr>\n",
       "      <th>0</th>\n",
       "      <td>Global</td>\n",
       "      <td>2001</td>\n",
       "      <td>Consumer Brands</td>\n",
       "      <td>1</td>\n",
       "      <td>Nokia</td>\n",
       "    </tr>\n",
       "    <tr>\n",
       "      <th>1</th>\n",
       "      <td>Global</td>\n",
       "      <td>2001</td>\n",
       "      <td>Consumer Brands</td>\n",
       "      <td>2</td>\n",
       "      <td>Sony</td>\n",
       "    </tr>\n",
       "    <tr>\n",
       "      <th>2</th>\n",
       "      <td>Global</td>\n",
       "      <td>2001</td>\n",
       "      <td>Consumer Brands</td>\n",
       "      <td>3</td>\n",
       "      <td>BMW</td>\n",
       "    </tr>\n",
       "    <tr>\n",
       "      <th>3</th>\n",
       "      <td>Global</td>\n",
       "      <td>2001</td>\n",
       "      <td>Consumer Brands</td>\n",
       "      <td>4</td>\n",
       "      <td>Palm</td>\n",
       "    </tr>\n",
       "    <tr>\n",
       "      <th>4</th>\n",
       "      <td>Global</td>\n",
       "      <td>2001</td>\n",
       "      <td>Consumer Brands</td>\n",
       "      <td>5</td>\n",
       "      <td>Adobe</td>\n",
       "    </tr>\n",
       "  </tbody>\n",
       "</table>\n",
       "</div>"
      ],
      "text/plain": [
       "  location  year         category  rank  query\n",
       "0   Global  2001  Consumer Brands     1  Nokia\n",
       "1   Global  2001  Consumer Brands     2   Sony\n",
       "2   Global  2001  Consumer Brands     3    BMW\n",
       "3   Global  2001  Consumer Brands     4   Palm\n",
       "4   Global  2001  Consumer Brands     5  Adobe"
      ]
     },
     "execution_count": 29,
     "metadata": {},
     "output_type": "execute_result"
    }
   ],
   "source": [
    "df.head()"
   ]
  },
  {
   "cell_type": "code",
   "execution_count": 34,
   "metadata": {},
   "outputs": [
    {
     "data": {
      "text/plain": [
       "array([[<AxesSubplot:title={'center':'year'}>,\n",
       "        <AxesSubplot:title={'center':'rank'}>]], dtype=object)"
      ]
     },
     "execution_count": 34,
     "metadata": {},
     "output_type": "execute_result"
    },
    {
     "data": {
      "image/png": "[encoded data removed]",
      "text/plain": [
       "<Figure size 1440x1080 with 2 Axes>"
      ]
     },
     "metadata": {
      "needs_background": "light"
     },
     "output_type": "display_data"
    }
   ],
   "source": [
    "#Crear histogramas para las variables numericas\n",
    "df.hist(bins=40, figsize=(20,15))"
   ]
  },
  {
   "cell_type": "code",
   "execution_count": 38,
   "metadata": {},
   "outputs": [
    {
     "name": "stdout",
     "output_type": "stream",
     "text": [
      "United States         2070\n",
      "Global                1135\n",
      "Japan                  765\n",
      "Canada                 690\n",
      "Brazil                 675\n",
      "                      ... \n",
      "Dominican Republic       5\n",
      "Kuwait                   5\n",
      "Sudan                    5\n",
      "El Salvador              5\n",
      "Honduras                 5\n",
      "Name: location, Length: 83, dtype: int64\n"
     ]
    },
    {
     "data": {
      "image/png": "[encoded data removed]",
      "text/plain": [
       "<Figure size 720x288 with 1 Axes>"
      ]
     },
     "metadata": {
      "needs_background": "light"
     },
     "output_type": "display_data"
    },
    {
     "name": "stdout",
     "output_type": "stream",
     "text": [
      "Paul Walker                     84\n",
      "Donald Trump                    83\n",
      "Facebook                        62\n",
      "Robin Williams                  61\n",
      "Whitney Houston                 56\n",
      "                                ..\n",
      "ミュシャ展                            1\n",
      "Fire Fight Australia concert     1\n",
      "Tiramisu recept                  1\n",
      "美國網球公開賽                          1\n",
      "Подорожали яйца                  1\n",
      "Name: query, Length: 18431, dtype: int64\n"
     ]
    },
    {
     "data": {
      "image/png": "[encoded data removed]",
      "text/plain": [
       "<Figure size 720x288 with 1 Axes>"
      ]
     },
     "metadata": {
      "needs_background": "light"
     },
     "output_type": "display_data"
    },
    {
     "name": "stdout",
     "output_type": "stream",
     "text": [
      "People                     760\n",
      "Searches                   620\n",
      "Movies                     330\n",
      "TV Shows                   305\n",
      "Películas                  250\n",
      "                          ... \n",
      "Couturiers et designers      5\n",
      "... during coronavirus       5\n",
      "Koronavírus-járvány          5\n",
      "Detroit, MI                  5\n",
      "Wat betekent...?             5\n",
      "Name: category, Length: 2450, dtype: int64\n"
     ]
    },
    {
     "data": {
      "image/png": "[encoded data removed]",
      "text/plain": [
       "<Figure size 720x288 with 1 Axes>"
      ]
     },
     "metadata": {
      "needs_background": "light"
     },
     "output_type": "display_data"
    }
   ],
   "source": [
    "#Histogramas para el top de las variables categoricas\n",
    "features_cat = [\"location\", \"query\", \"category\"]\n",
    "\n",
    "for f in features_cat:\n",
    "    print(df[f].value_counts())\n",
    "    #Histograma top 25\n",
    "    plt.figure(figsize=(10,4))\n",
    "    df[f].value_counts()[0:25].plot(kind=\"bar\")\n",
    "    plt.title(f)\n",
    "    plt.grid()\n",
    "    plt.show()"
   ]
  },
  {
   "cell_type": "code",
   "execution_count": 39,
   "metadata": {},
   "outputs": [
    {
     "name": "stdout",
     "output_type": "stream",
     "text": [
      "['Global', 'France', 'Germany', 'United Kingdom', 'Australia', 'Canada', 'Italy', 'Netherlands', 'Spain', 'United States', 'Argentina', 'Austria', 'Belgium', 'Brazil', 'Chile', 'China', 'Colombia', 'Czechia', 'Denmark', 'Finland', 'Hong Kong', 'India', 'Malaysia', 'Mexico', 'New Zealand', 'Philippines', 'Poland', 'Russia', 'Singapore', 'South Africa', 'South Korea', 'Sweden', 'Switzerland', 'Taiwan', 'Thailand', 'United Arab Emirates', 'Costa Rica', 'Croatia', 'Dominican Republic', 'Ecuador', 'El Salvador', 'Guatemala', 'Honduras', 'Japan', 'Kenya', 'Nigeria', 'Panama', 'Peru', 'Egypt', 'Hungary', 'Ireland', 'Israel', 'Norway', 'Portugal', 'Romania', 'Saudi Arabia', 'Serbia', 'Slovakia', 'Turkey', 'Ukraine', 'Ghana', 'Indonesia', 'Senegal', 'Uganda', 'Vietnam', 'Bangladesh', 'Bulgaria', 'Estonia', 'Latvia', 'Lithuania', 'Pakistan', 'Puerto Rico', 'Slovenia', 'Uruguay', 'Venezuela', 'Greece', 'Belarus', 'Kazakhstan', 'Sri Lanka', 'Zimbabwe', 'Myanmar (Burma)', 'Kuwait', 'Sudan']\n"
     ]
    }
   ],
   "source": [
    "#filtrar las queries en españa en el año 2020\n",
    "print(df.location.unique().tolist())"
   ]
  },
  {
   "cell_type": "code",
   "execution_count": 46,
   "metadata": {},
   "outputs": [
    {
     "data": {
      "text/html": [
       "<div>\n",
       "<style scoped>\n",
       "    .dataframe tbody tr th:only-of-type {\n",
       "        vertical-align: middle;\n",
       "    }\n",
       "\n",
       "    .dataframe tbody tr th {\n",
       "        vertical-align: top;\n",
       "    }\n",
       "\n",
       "    .dataframe thead th {\n",
       "        text-align: right;\n",
       "    }\n",
       "</style>\n",
       "<table border=\"1\" class=\"dataframe\">\n",
       "  <thead>\n",
       "    <tr style=\"text-align: right;\">\n",
       "      <th></th>\n",
       "      <th>location</th>\n",
       "      <th>year</th>\n",
       "      <th>category</th>\n",
       "      <th>rank</th>\n",
       "      <th>query</th>\n",
       "    </tr>\n",
       "  </thead>\n",
       "  <tbody>\n",
       "    <tr>\n",
       "      <th>26265</th>\n",
       "      <td>Spain</td>\n",
       "      <td>2020</td>\n",
       "      <td>General</td>\n",
       "      <td>1</td>\n",
       "      <td>coronavirus</td>\n",
       "    </tr>\n",
       "    <tr>\n",
       "      <th>26266</th>\n",
       "      <td>Spain</td>\n",
       "      <td>2020</td>\n",
       "      <td>General</td>\n",
       "      <td>2</td>\n",
       "      <td>elecciones eeuu</td>\n",
       "    </tr>\n",
       "    <tr>\n",
       "      <th>26267</th>\n",
       "      <td>Spain</td>\n",
       "      <td>2020</td>\n",
       "      <td>General</td>\n",
       "      <td>3</td>\n",
       "      <td>classroom</td>\n",
       "    </tr>\n",
       "    <tr>\n",
       "      <th>26268</th>\n",
       "      <td>Spain</td>\n",
       "      <td>2020</td>\n",
       "      <td>General</td>\n",
       "      <td>4</td>\n",
       "      <td>la liga</td>\n",
       "    </tr>\n",
       "    <tr>\n",
       "      <th>26269</th>\n",
       "      <td>Spain</td>\n",
       "      <td>2020</td>\n",
       "      <td>General</td>\n",
       "      <td>5</td>\n",
       "      <td>Kobe Bryant</td>\n",
       "    </tr>\n",
       "    <tr>\n",
       "      <th>26270</th>\n",
       "      <td>Spain</td>\n",
       "      <td>2020</td>\n",
       "      <td>Recetas</td>\n",
       "      <td>1</td>\n",
       "      <td>pan casero</td>\n",
       "    </tr>\n",
       "    <tr>\n",
       "      <th>26271</th>\n",
       "      <td>Spain</td>\n",
       "      <td>2020</td>\n",
       "      <td>Recetas</td>\n",
       "      <td>2</td>\n",
       "      <td>masa madre</td>\n",
       "    </tr>\n",
       "    <tr>\n",
       "      <th>26272</th>\n",
       "      <td>Spain</td>\n",
       "      <td>2020</td>\n",
       "      <td>Recetas</td>\n",
       "      <td>3</td>\n",
       "      <td>churros</td>\n",
       "    </tr>\n",
       "    <tr>\n",
       "      <th>26273</th>\n",
       "      <td>Spain</td>\n",
       "      <td>2020</td>\n",
       "      <td>Recetas</td>\n",
       "      <td>4</td>\n",
       "      <td>levadura fresca</td>\n",
       "    </tr>\n",
       "    <tr>\n",
       "      <th>26274</th>\n",
       "      <td>Spain</td>\n",
       "      <td>2020</td>\n",
       "      <td>Recetas</td>\n",
       "      <td>5</td>\n",
       "      <td>donuts caseros</td>\n",
       "    </tr>\n",
       "    <tr>\n",
       "      <th>26275</th>\n",
       "      <td>Spain</td>\n",
       "      <td>2020</td>\n",
       "      <td>Educación</td>\n",
       "      <td>1</td>\n",
       "      <td>Classroom</td>\n",
       "    </tr>\n",
       "    <tr>\n",
       "      <th>26276</th>\n",
       "      <td>Spain</td>\n",
       "      <td>2020</td>\n",
       "      <td>Educación</td>\n",
       "      <td>2</td>\n",
       "      <td>Aules</td>\n",
       "    </tr>\n",
       "    <tr>\n",
       "      <th>26277</th>\n",
       "      <td>Spain</td>\n",
       "      <td>2020</td>\n",
       "      <td>Educación</td>\n",
       "      <td>3</td>\n",
       "      <td>Liveworksheets</td>\n",
       "    </tr>\n",
       "    <tr>\n",
       "      <th>26278</th>\n",
       "      <td>Spain</td>\n",
       "      <td>2020</td>\n",
       "      <td>Educación</td>\n",
       "      <td>4</td>\n",
       "      <td>Snappet</td>\n",
       "    </tr>\n",
       "    <tr>\n",
       "      <th>26279</th>\n",
       "      <td>Spain</td>\n",
       "      <td>2020</td>\n",
       "      <td>Educación</td>\n",
       "      <td>5</td>\n",
       "      <td>educamosclm</td>\n",
       "    </tr>\n",
       "    <tr>\n",
       "      <th>26280</th>\n",
       "      <td>Spain</td>\n",
       "      <td>2020</td>\n",
       "      <td>¿Cómo...?</td>\n",
       "      <td>1</td>\n",
       "      <td>cómo hacer una mascarilla de tela</td>\n",
       "    </tr>\n",
       "    <tr>\n",
       "      <th>26281</th>\n",
       "      <td>Spain</td>\n",
       "      <td>2020</td>\n",
       "      <td>¿Cómo...?</td>\n",
       "      <td>2</td>\n",
       "      <td>cómo hacer pan casero</td>\n",
       "    </tr>\n",
       "    <tr>\n",
       "      <th>26282</th>\n",
       "      <td>Spain</td>\n",
       "      <td>2020</td>\n",
       "      <td>¿Cómo...?</td>\n",
       "      <td>3</td>\n",
       "      <td>cómo se contagia el coronavirus</td>\n",
       "    </tr>\n",
       "    <tr>\n",
       "      <th>26283</th>\n",
       "      <td>Spain</td>\n",
       "      <td>2020</td>\n",
       "      <td>¿Cómo...?</td>\n",
       "      <td>4</td>\n",
       "      <td>cómo hacer desinfectante de manos</td>\n",
       "    </tr>\n",
       "    <tr>\n",
       "      <th>26284</th>\n",
       "      <td>Spain</td>\n",
       "      <td>2020</td>\n",
       "      <td>¿Cómo...?</td>\n",
       "      <td>5</td>\n",
       "      <td>cómo van las elecciones de ee uu</td>\n",
       "    </tr>\n",
       "    <tr>\n",
       "      <th>26285</th>\n",
       "      <td>Spain</td>\n",
       "      <td>2020</td>\n",
       "      <td>Personalidades</td>\n",
       "      <td>1</td>\n",
       "      <td>Donald Trump</td>\n",
       "    </tr>\n",
       "    <tr>\n",
       "      <th>26286</th>\n",
       "      <td>Spain</td>\n",
       "      <td>2020</td>\n",
       "      <td>Personalidades</td>\n",
       "      <td>2</td>\n",
       "      <td>Joe Biden</td>\n",
       "    </tr>\n",
       "    <tr>\n",
       "      <th>26287</th>\n",
       "      <td>Spain</td>\n",
       "      <td>2020</td>\n",
       "      <td>Personalidades</td>\n",
       "      <td>3</td>\n",
       "      <td>Kim Jong Un</td>\n",
       "    </tr>\n",
       "    <tr>\n",
       "      <th>26288</th>\n",
       "      <td>Spain</td>\n",
       "      <td>2020</td>\n",
       "      <td>Personalidades</td>\n",
       "      <td>4</td>\n",
       "      <td>Fernando Simón</td>\n",
       "    </tr>\n",
       "    <tr>\n",
       "      <th>26289</th>\n",
       "      <td>Spain</td>\n",
       "      <td>2020</td>\n",
       "      <td>Personalidades</td>\n",
       "      <td>5</td>\n",
       "      <td>Boris Johnson</td>\n",
       "    </tr>\n",
       "    <tr>\n",
       "      <th>26290</th>\n",
       "      <td>Spain</td>\n",
       "      <td>2020</td>\n",
       "      <td>¿Por qué...?</td>\n",
       "      <td>1</td>\n",
       "      <td>por qué se llama coronavirus</td>\n",
       "    </tr>\n",
       "    <tr>\n",
       "      <th>26291</th>\n",
       "      <td>Spain</td>\n",
       "      <td>2020</td>\n",
       "      <td>¿Por qué...?</td>\n",
       "      <td>2</td>\n",
       "      <td>por qué la gente compra papel higiénico</td>\n",
       "    </tr>\n",
       "    <tr>\n",
       "      <th>26292</th>\n",
       "      <td>Spain</td>\n",
       "      <td>2020</td>\n",
       "      <td>¿Por qué...?</td>\n",
       "      <td>3</td>\n",
       "      <td>por qué pican los mosquitos</td>\n",
       "    </tr>\n",
       "    <tr>\n",
       "      <th>26293</th>\n",
       "      <td>Spain</td>\n",
       "      <td>2020</td>\n",
       "      <td>¿Por qué...?</td>\n",
       "      <td>4</td>\n",
       "      <td>por qué Valencia no pasa a la fase 1</td>\n",
       "    </tr>\n",
       "    <tr>\n",
       "      <th>26294</th>\n",
       "      <td>Spain</td>\n",
       "      <td>2020</td>\n",
       "      <td>¿Por qué...?</td>\n",
       "      <td>5</td>\n",
       "      <td>por qué se separaron Paquirri y carmen Ordoñez</td>\n",
       "    </tr>\n",
       "    <tr>\n",
       "      <th>26295</th>\n",
       "      <td>Spain</td>\n",
       "      <td>2020</td>\n",
       "      <td>Cuándo</td>\n",
       "      <td>1</td>\n",
       "      <td>cuándo es el Black Friday</td>\n",
       "    </tr>\n",
       "    <tr>\n",
       "      <th>26296</th>\n",
       "      <td>Spain</td>\n",
       "      <td>2020</td>\n",
       "      <td>Cuándo</td>\n",
       "      <td>2</td>\n",
       "      <td>cuándo abren las peluquerías</td>\n",
       "    </tr>\n",
       "    <tr>\n",
       "      <th>26297</th>\n",
       "      <td>Spain</td>\n",
       "      <td>2020</td>\n",
       "      <td>Cuándo</td>\n",
       "      <td>3</td>\n",
       "      <td>cuándo se cobra el erte</td>\n",
       "    </tr>\n",
       "    <tr>\n",
       "      <th>26298</th>\n",
       "      <td>Spain</td>\n",
       "      <td>2020</td>\n",
       "      <td>Cuándo</td>\n",
       "      <td>4</td>\n",
       "      <td>cuándo acaba el estado de alarma</td>\n",
       "    </tr>\n",
       "    <tr>\n",
       "      <th>26299</th>\n",
       "      <td>Spain</td>\n",
       "      <td>2020</td>\n",
       "      <td>Cuándo</td>\n",
       "      <td>5</td>\n",
       "      <td>cuándo acaba el confinamiento en España</td>\n",
       "    </tr>\n",
       "    <tr>\n",
       "      <th>26300</th>\n",
       "      <td>Spain</td>\n",
       "      <td>2020</td>\n",
       "      <td>Cine, tv y series</td>\n",
       "      <td>1</td>\n",
       "      <td>La isla de las tentaciones</td>\n",
       "    </tr>\n",
       "    <tr>\n",
       "      <th>26301</th>\n",
       "      <td>Spain</td>\n",
       "      <td>2020</td>\n",
       "      <td>Cine, tv y series</td>\n",
       "      <td>2</td>\n",
       "      <td>Supervivientes</td>\n",
       "    </tr>\n",
       "    <tr>\n",
       "      <th>26302</th>\n",
       "      <td>Spain</td>\n",
       "      <td>2020</td>\n",
       "      <td>Cine, tv y series</td>\n",
       "      <td>3</td>\n",
       "      <td>La casa fuerte</td>\n",
       "    </tr>\n",
       "    <tr>\n",
       "      <th>26303</th>\n",
       "      <td>Spain</td>\n",
       "      <td>2020</td>\n",
       "      <td>Cine, tv y series</td>\n",
       "      <td>4</td>\n",
       "      <td>Mask singer</td>\n",
       "    </tr>\n",
       "    <tr>\n",
       "      <th>26304</th>\n",
       "      <td>Spain</td>\n",
       "      <td>2020</td>\n",
       "      <td>Cine, tv y series</td>\n",
       "      <td>5</td>\n",
       "      <td>Gambito de dama</td>\n",
       "    </tr>\n",
       "    <tr>\n",
       "      <th>26305</th>\n",
       "      <td>Spain</td>\n",
       "      <td>2020</td>\n",
       "      <td>Música</td>\n",
       "      <td>1</td>\n",
       "      <td>Pau Donés</td>\n",
       "    </tr>\n",
       "    <tr>\n",
       "      <th>26306</th>\n",
       "      <td>Spain</td>\n",
       "      <td>2020</td>\n",
       "      <td>Música</td>\n",
       "      <td>2</td>\n",
       "      <td>Pablo Alborán</td>\n",
       "    </tr>\n",
       "    <tr>\n",
       "      <th>26307</th>\n",
       "      <td>Spain</td>\n",
       "      <td>2020</td>\n",
       "      <td>Música</td>\n",
       "      <td>3</td>\n",
       "      <td>Jerusalema</td>\n",
       "    </tr>\n",
       "    <tr>\n",
       "      <th>26308</th>\n",
       "      <td>Spain</td>\n",
       "      <td>2020</td>\n",
       "      <td>Música</td>\n",
       "      <td>4</td>\n",
       "      <td>Cristina Ramos</td>\n",
       "    </tr>\n",
       "    <tr>\n",
       "      <th>26309</th>\n",
       "      <td>Spain</td>\n",
       "      <td>2020</td>\n",
       "      <td>Música</td>\n",
       "      <td>5</td>\n",
       "      <td>Adele</td>\n",
       "    </tr>\n",
       "  </tbody>\n",
       "</table>\n",
       "</div>"
      ],
      "text/plain": [
       "      location  year           category  rank  \\\n",
       "26265    Spain  2020            General     1   \n",
       "26266    Spain  2020            General     2   \n",
       "26267    Spain  2020            General     3   \n",
       "26268    Spain  2020            General     4   \n",
       "26269    Spain  2020            General     5   \n",
       "26270    Spain  2020            Recetas     1   \n",
       "26271    Spain  2020            Recetas     2   \n",
       "26272    Spain  2020            Recetas     3   \n",
       "26273    Spain  2020            Recetas     4   \n",
       "26274    Spain  2020            Recetas     5   \n",
       "26275    Spain  2020          Educación     1   \n",
       "26276    Spain  2020          Educación     2   \n",
       "26277    Spain  2020          Educación     3   \n",
       "26278    Spain  2020          Educación     4   \n",
       "26279    Spain  2020          Educación     5   \n",
       "26280    Spain  2020          ¿Cómo...?     1   \n",
       "26281    Spain  2020          ¿Cómo...?     2   \n",
       "26282    Spain  2020          ¿Cómo...?     3   \n",
       "26283    Spain  2020          ¿Cómo...?     4   \n",
       "26284    Spain  2020          ¿Cómo...?     5   \n",
       "26285    Spain  2020     Personalidades     1   \n",
       "26286    Spain  2020     Personalidades     2   \n",
       "26287    Spain  2020     Personalidades     3   \n",
       "26288    Spain  2020     Personalidades     4   \n",
       "26289    Spain  2020     Personalidades     5   \n",
       "26290    Spain  2020       ¿Por qué...?     1   \n",
       "26291    Spain  2020       ¿Por qué...?     2   \n",
       "26292    Spain  2020       ¿Por qué...?     3   \n",
       "26293    Spain  2020       ¿Por qué...?     4   \n",
       "26294    Spain  2020       ¿Por qué...?     5   \n",
       "26295    Spain  2020             Cuándo     1   \n",
       "26296    Spain  2020             Cuándo     2   \n",
       "26297    Spain  2020             Cuándo     3   \n",
       "26298    Spain  2020             Cuándo     4   \n",
       "26299    Spain  2020             Cuándo     5   \n",
       "26300    Spain  2020  Cine, tv y series     1   \n",
       "26301    Spain  2020  Cine, tv y series     2   \n",
       "26302    Spain  2020  Cine, tv y series     3   \n",
       "26303    Spain  2020  Cine, tv y series     4   \n",
       "26304    Spain  2020  Cine, tv y series     5   \n",
       "26305    Spain  2020             Música     1   \n",
       "26306    Spain  2020             Música     2   \n",
       "26307    Spain  2020             Música     3   \n",
       "26308    Spain  2020             Música     4   \n",
       "26309    Spain  2020             Música     5   \n",
       "\n",
       "                                                query  \n",
       "26265                                     coronavirus  \n",
       "26266                                 elecciones eeuu  \n",
       "26267                                       classroom  \n",
       "26268                                         la liga  \n",
       "26269                                     Kobe Bryant  \n",
       "26270                                      pan casero  \n",
       "26271                                      masa madre  \n",
       "26272                                         churros  \n",
       "26273                                 levadura fresca  \n",
       "26274                                  donuts caseros  \n",
       "26275                                       Classroom  \n",
       "26276                                           Aules  \n",
       "26277                                  Liveworksheets  \n",
       "26278                                         Snappet  \n",
       "26279                                     educamosclm  \n",
       "26280               cómo hacer una mascarilla de tela  \n",
       "26281                           cómo hacer pan casero  \n",
       "26282                 cómo se contagia el coronavirus  \n",
       "26283               cómo hacer desinfectante de manos  \n",
       "26284                cómo van las elecciones de ee uu  \n",
       "26285                                    Donald Trump  \n",
       "26286                                       Joe Biden  \n",
       "26287                                     Kim Jong Un  \n",
       "26288                                  Fernando Simón  \n",
       "26289                                   Boris Johnson  \n",
       "26290                    por qué se llama coronavirus  \n",
       "26291         por qué la gente compra papel higiénico  \n",
       "26292                     por qué pican los mosquitos  \n",
       "26293            por qué Valencia no pasa a la fase 1  \n",
       "26294  por qué se separaron Paquirri y carmen Ordoñez  \n",
       "26295                       cuándo es el Black Friday  \n",
       "26296                    cuándo abren las peluquerías  \n",
       "26297                         cuándo se cobra el erte  \n",
       "26298                cuándo acaba el estado de alarma  \n",
       "26299         cuándo acaba el confinamiento en España  \n",
       "26300                      La isla de las tentaciones  \n",
       "26301                                  Supervivientes  \n",
       "26302                                  La casa fuerte  \n",
       "26303                                     Mask singer  \n",
       "26304                                 Gambito de dama  \n",
       "26305                                       Pau Donés  \n",
       "26306                                   Pablo Alborán  \n",
       "26307                                      Jerusalema  \n",
       "26308                                  Cristina Ramos  \n",
       "26309                                           Adele  "
      ]
     },
     "execution_count": 46,
     "metadata": {},
     "output_type": "execute_result"
    }
   ],
   "source": [
    "df[(df[\"location\"]==\"Spain\") & (df[\"year\"]>2019)]"
   ]
  },
  {
   "cell_type": "code",
   "execution_count": 58,
   "metadata": {},
   "outputs": [],
   "source": [
    "#mas buscado en el mundo en 2020\n",
    "df_filter2 = df[(df[\"year\"]>2019) & (df[\"rank\"]>1)]"
   ]
  },
  {
   "cell_type": "code",
   "execution_count": 61,
   "metadata": {},
   "outputs": [
    {
     "data": {
      "image/png": "[encoded data removed]",
      "text/plain": [
       "<Figure size 720x288 with 1 Axes>"
      ]
     },
     "metadata": {
      "needs_background": "light"
     },
     "output_type": "display_data"
    },
    {
     "data": {
      "image/png": "[encoded data removed]",
      "text/plain": [
       "<Figure size 720x288 with 1 Axes>"
      ]
     },
     "metadata": {
      "needs_background": "light"
     },
     "output_type": "display_data"
    },
    {
     "data": {
      "image/png": "[encoded data removed]",
      "text/plain": [
       "<Figure size 720x288 with 1 Axes>"
      ]
     },
     "metadata": {
      "needs_background": "light"
     },
     "output_type": "display_data"
    }
   ],
   "source": [
    "features_filter = [\"location\", \"query\", \"category\"]\n",
    "\n",
    "for f in features_filter:\n",
    "    #print(df_filter[f].value_counts())\n",
    "    #Histograma top 25\n",
    "    plt.figure(figsize=(10,4))\n",
    "    df_filter[f].value_counts()[0:10].plot(kind=\"bar\")\n",
    "    plt.title(f)\n",
    "    plt.grid()\n",
    "    plt.show()"
   ]
  },
  {
   "cell_type": "markdown",
   "metadata": {},
   "source": [
    "Dataset obtenido gracias a: \n",
    "Dhruvil Dave, “Google Trends Dataset.” Kaggle, 2021, doi: 10.34740/KAGGLE/DSV/1936665."
   ]
  },
  {
   "cell_type": "code",
   "execution_count": null,
   "metadata": {},
   "outputs": [],
   "source": []
  }
 ],
 "metadata": {
  "kernelspec": {
   "display_name": "Python 3",
   "language": "python",
   "name": "python3"
  },
  "language_info": {
   "codemirror_mode": {
    "name": "ipython",
    "version": 3
   },
   "file_extension": ".py",
   "mimetype": "text/x-python",
   "name": "python",
   "nbconvert_exporter": "python",
   "pygments_lexer": "ipython3",
   "version": "3.8.5"
  }
 },
 "nbformat": 4,
 "nbformat_minor": 4
}
